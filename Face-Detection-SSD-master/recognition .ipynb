{
 "cells": [
  {
   "cell_type": "code",
   "execution_count": 4,
   "metadata": {},
   "outputs": [
    {
     "name": "stdout",
     "output_type": "stream",
     "text": [
      "Collecting face_recognition\n",
      "  Downloading face_recognition-1.3.0-py2.py3-none-any.whl (15 kB)\n",
      "Requirement already satisfied: dlib>=19.7 in c:\\users\\chukwurah\\virt\\lib\\site-packages (from face_recognition) (19.19.0)\n",
      "Collecting Click>=6.0\n",
      "  Downloading click-7.1.1-py2.py3-none-any.whl (82 kB)\n",
      "Requirement already satisfied: numpy in c:\\users\\chukwurah\\virt\\lib\\site-packages (from face_recognition) (1.18.1)\n",
      "Requirement already satisfied: Pillow in c:\\users\\chukwurah\\virt\\lib\\site-packages (from face_recognition) (7.0.0)\n",
      "Collecting face-recognition-models>=0.3.0\n",
      "  Downloading face_recognition_models-0.3.0.tar.gz (100.1 MB)\n",
      "Building wheels for collected packages: face-recognition-models\n",
      "  Building wheel for face-recognition-models (setup.py): started\n",
      "  Building wheel for face-recognition-models (setup.py): finished with status 'done'\n",
      "  Created wheel for face-recognition-models: filename=face_recognition_models-0.3.0-py2.py3-none-any.whl size=100566176 sha256=8c51e805cbc6859f84e82b0c8bed56fd4b547c8d28057467a51affc7b9d173a9\n",
      "  Stored in directory: c:\\users\\chukwurah\\appdata\\local\\pip\\cache\\wheels\\d6\\81\\3c\\884bcd5e1c120ff548d57c2ecc9ebf3281c9a6f7c0e7e7947a\n",
      "Successfully built face-recognition-models\n",
      "Installing collected packages: Click, face-recognition-models, face-recognition\n",
      "Successfully installed Click-7.1.1 face-recognition-1.3.0 face-recognition-models-0.3.0\n"
     ]
    }
   ],
   "source": [
    "!pip install face_recognition\n",
    "import face_recognition \n",
    "import os\n",
    "import cv2"
   ]
  },
  {
   "cell_type": "code",
   "execution_count": 67,
   "metadata": {},
   "outputs": [
    {
     "name": "stdout",
     "output_type": "stream",
     "text": [
      "loading known faces\n",
      "finish loading known_faces\n",
      "finish loading known_faces\n",
      "['abdul', 'somtoo', 'somtoo']\n",
      "processing unknown faces\n",
      "Capture.JPG\n",
      "Match found: somtoo\n",
      "[False, True, True]\n",
      "dsd.jpeg\n",
      "Match found: abdul\n",
      "[True, False, True]\n",
      "f12.jpg\n",
      "[False, False, False]\n",
      "f21.jpg\n",
      "[False, False, False]\n",
      "str.jpeg\n",
      "Match found: abdul\n",
      "[True, False, False]\n",
      "str2_kcidriselba_kenneth-770x470.jpg\n",
      "[False, False, False]\n"
     ]
    }
   ],
   "source": [
    "KNOWN_FACES_DIR = \"known__faces\"\n",
    "UNKNOWN_FACES_DIR = \"unknown_faces\"\n",
    "TOLERANCE = 0.46\n",
    "# MODEL = \"cnn\"\n",
    "FRAME_THICKNESS = 3\n",
    "FONT_THICKNESS = 2\n",
    "print(\"loading known faces\")\n",
    "\n",
    "known_faces = []\n",
    "known_names = []\n",
    "\n",
    "for name in os.listdir(KNOWN_FACES_DIR):\n",
    "    for filename in os.listdir(f\"{KNOWN_FACES_DIR}/{name}\"):\n",
    "        image = face_recognition.load_image_file(f\"{KNOWN_FACES_DIR}/{name}/{filename}\")\n",
    "        encoding = face_recognition.face_encodings(image,num_jitters=100)[0]\n",
    "        known_faces.append(encoding)\n",
    "        known_names.append(name)\n",
    "    print(\"finish loading known_faces\")\n",
    "print(known_names)\n",
    "\n",
    "print(\"processing unknown faces\")\n",
    "for filename in os.listdir(UNKNOWN_FACES_DIR):\n",
    "    print(filename)\n",
    "    image = face_recognition.load_image_file(f\"{UNKNOWN_FACES_DIR}/{filename}\")\n",
    "    locations = face_recognition.face_locations(image)\n",
    "    encodings = face_recognition.face_encodings(image,locations,num_jitters=100)\n",
    "    image = cv2.cvtColor(image, cv2.COLOR_RGB2BGR)\n",
    "    \n",
    "    for face_encoding, face_location in zip(encodings,locations):\n",
    "        results = face_recognition.compare_faces(known_faces, face_encoding, TOLERANCE)\n",
    "        match = None\n",
    "        if True in results:\n",
    "            match = known_names[results.index(True)]\n",
    "            print(f\"Match found: {match}\")\n",
    "            \n",
    "            top_left = (face_location[3], face_location[0])\n",
    "            bottom_right = (face_location[1], face_location[2])\n",
    "            color = [0,255,0]\n",
    "            \n",
    "            cv2.rectangle(image,top_left,bottom_right,color,FRAME_THICKNESS)\n",
    "            top_left = (face_location[3], face_location[2])\n",
    "            bottom_right = (face_location[1], face_location[2]+22)\n",
    "            cv2.rectangle(image,top_left,bottom_right,color,cv2.FILLED)\n",
    "            cv2.putText(image, match, (face_location[3]+10, face_location[2]+15), cv2.FONT_HERSHEY_SIMPLEX,0.5,(200,200,200), FONT_THICKNESS)\n",
    "    \n",
    "    print(results)\n",
    "    cv2.imshow(filename,image)\n",
    "    cv2.waitKey(0)\n",
    "    cv2.destroyWindow(filename)\n",
    "\n"
   ]
  },
  {
   "cell_type": "code",
   "execution_count": null,
   "metadata": {},
   "outputs": [],
   "source": []
  },
  {
   "cell_type": "code",
   "execution_count": null,
   "metadata": {},
   "outputs": [],
   "source": []
  }
 ],
 "metadata": {
  "kernelspec": {
   "display_name": "Python 3",
   "language": "python",
   "name": "python3"
  },
  "language_info": {
   "codemirror_mode": {
    "name": "ipython",
    "version": 3
   },
   "file_extension": ".py",
   "mimetype": "text/x-python",
   "name": "python",
   "nbconvert_exporter": "python",
   "pygments_lexer": "ipython3",
   "version": "3.7.6"
  }
 },
 "nbformat": 4,
 "nbformat_minor": 4
}
